{
 "cells": [
  {
   "cell_type": "code",
   "execution_count": 1,
   "metadata": {},
   "outputs": [
    {
     "name": "stdout",
     "output_type": "stream",
     "text": [
      "Better speed can be achieved with apex installed from https://www.github.com/nvidia/apex.\n"
     ]
    }
   ],
   "source": [
    "import pandas as pd\n",
    "import numpy as np\n",
    "from glob import glob\n",
    "from pytorch_pretrained_bert import BertTokenizer\n",
    "import torch\n",
    "from torch import nn\n",
    "%matplotlib inline\n",
    "import json\n",
    "from tqdm import tqdm\n",
    "from sklearn import metrics\n",
    "\n",
    "from model import BertPunc\n",
    "from data import load_file, preprocess_data, create_data_loader"
   ]
  },
  {
   "cell_type": "markdown",
   "metadata": {},
   "source": [
    "### Model path"
   ]
  },
  {
   "cell_type": "code",
   "execution_count": 2,
   "metadata": {},
   "outputs": [
    {
     "data": {
      "text/plain": [
       "['models/20190418_211742', 'models/20190419_162056']"
      ]
     },
     "execution_count": 2,
     "metadata": {},
     "output_type": "execute_result"
    }
   ],
   "source": [
    "glob('models/*')"
   ]
  },
  {
   "cell_type": "code",
   "execution_count": 3,
   "metadata": {},
   "outputs": [],
   "source": [
    "path = 'models/20190418_211742/'"
   ]
  },
  {
   "cell_type": "markdown",
   "metadata": {},
   "source": [
    "### Prepare"
   ]
  },
  {
   "cell_type": "code",
   "execution_count": 4,
   "metadata": {},
   "outputs": [],
   "source": [
    "data_test = load_file('data/LREC/test2011')\n",
    "data_test_asr = load_file('data/LREC/test2011asr')\n",
    "# data_test = load_file('data/NPR-podcasts/test')"
   ]
  },
  {
   "cell_type": "code",
   "execution_count": 5,
   "metadata": {},
   "outputs": [
    {
     "data": {
      "text/plain": [
       "{'segment_size': 32,\n",
       " 'dropout': 0.3,\n",
       " 'epochs_top': 3,\n",
       " 'iterations_top': 2,\n",
       " 'learning_rate_top': 1e-05,\n",
       " 'epochs_all': 6,\n",
       " 'iterations_all': 3,\n",
       " 'batch_size_all': 256,\n",
       " 'learning_rate_all': 1e-05}"
      ]
     },
     "execution_count": 5,
     "metadata": {},
     "output_type": "execute_result"
    }
   ],
   "source": [
    "with open(path+'hyperparameters.json', 'r') as f:\n",
    "    hyperparameters = json.load(f)\n",
    "hyperparameters"
   ]
  },
  {
   "cell_type": "code",
   "execution_count": 6,
   "metadata": {},
   "outputs": [],
   "source": [
    "tokenizer = BertTokenizer.from_pretrained('bert-base-uncased', do_lower_case=True)\n",
    "\n",
    "punctuation_enc = {\n",
    "    'O': 0,\n",
    "    'COMMA': 1,\n",
    "    'PERIOD': 2,\n",
    "    'QUESTION': 3\n",
    "}\n",
    "\n",
    "# punctuation_enc = {\n",
    "#     'O': 0,\n",
    "#     'PERIOD': 1\n",
    "# }\n",
    "\n",
    "segment_size = hyperparameters['segment_size']"
   ]
  },
  {
   "cell_type": "code",
   "execution_count": 7,
   "metadata": {},
   "outputs": [],
   "source": [
    "X_test, y_test = preprocess_data(data_test, tokenizer, punctuation_enc, segment_size)\n",
    "X_test_asr, y_test_asr = preprocess_data(data_test_asr, tokenizer, punctuation_enc, segment_size)"
   ]
  },
  {
   "cell_type": "code",
   "execution_count": 8,
   "metadata": {},
   "outputs": [],
   "source": [
    "output_size = len(punctuation_enc)\n",
    "dropout = hyperparameters['dropout']\n",
    "bert_punc = nn.DataParallel(BertPunc(segment_size, output_size, dropout).cuda())"
   ]
  },
  {
   "cell_type": "markdown",
   "metadata": {},
   "source": [
    "### Model progress"
   ]
  },
  {
   "cell_type": "code",
   "execution_count": 9,
   "metadata": {
    "scrolled": false
   },
   "outputs": [
    {
     "data": {
      "text/html": [
       "<div>\n",
       "<style scoped>\n",
       "    .dataframe tbody tr th:only-of-type {\n",
       "        vertical-align: middle;\n",
       "    }\n",
       "\n",
       "    .dataframe tbody tr th {\n",
       "        vertical-align: top;\n",
       "    }\n",
       "\n",
       "    .dataframe thead th {\n",
       "        text-align: right;\n",
       "    }\n",
       "</style>\n",
       "<table border=\"1\" class=\"dataframe\">\n",
       "  <thead>\n",
       "    <tr style=\"text-align: right;\">\n",
       "      <th></th>\n",
       "      <th>time</th>\n",
       "      <th>epoch</th>\n",
       "      <th>iteration</th>\n",
       "      <th>training loss</th>\n",
       "      <th>loss</th>\n",
       "      <th>accuracy</th>\n",
       "      <th>f1_space</th>\n",
       "      <th>f1_comma</th>\n",
       "      <th>f1_period</th>\n",
       "      <th>f1_question</th>\n",
       "    </tr>\n",
       "  </thead>\n",
       "  <tbody>\n",
       "    <tr>\n",
       "      <th>0</th>\n",
       "      <td>2019-04-18 21:44:48</td>\n",
       "      <td>1</td>\n",
       "      <td>1</td>\n",
       "      <td>0.2064</td>\n",
       "      <td>0.2202</td>\n",
       "      <td>0.9190</td>\n",
       "      <td>0.9673</td>\n",
       "      <td>0.4420</td>\n",
       "      <td>0.6838</td>\n",
       "      <td>0.2902</td>\n",
       "    </tr>\n",
       "    <tr>\n",
       "      <th>1</th>\n",
       "      <td>2019-04-18 22:11:29</td>\n",
       "      <td>1</td>\n",
       "      <td>2</td>\n",
       "      <td>0.2059</td>\n",
       "      <td>0.2081</td>\n",
       "      <td>0.9230</td>\n",
       "      <td>0.9697</td>\n",
       "      <td>0.5008</td>\n",
       "      <td>0.6921</td>\n",
       "      <td>0.3547</td>\n",
       "    </tr>\n",
       "    <tr>\n",
       "      <th>2</th>\n",
       "      <td>2019-04-18 22:38:09</td>\n",
       "      <td>2</td>\n",
       "      <td>1</td>\n",
       "      <td>0.2241</td>\n",
       "      <td>0.2063</td>\n",
       "      <td>0.9241</td>\n",
       "      <td>0.9702</td>\n",
       "      <td>0.5048</td>\n",
       "      <td>0.6938</td>\n",
       "      <td>0.3921</td>\n",
       "    </tr>\n",
       "    <tr>\n",
       "      <th>3</th>\n",
       "      <td>2019-04-18 23:04:47</td>\n",
       "      <td>2</td>\n",
       "      <td>2</td>\n",
       "      <td>0.2088</td>\n",
       "      <td>0.2035</td>\n",
       "      <td>0.9261</td>\n",
       "      <td>0.9716</td>\n",
       "      <td>0.5237</td>\n",
       "      <td>0.7039</td>\n",
       "      <td>0.3801</td>\n",
       "    </tr>\n",
       "    <tr>\n",
       "      <th>4</th>\n",
       "      <td>2019-04-18 23:31:14</td>\n",
       "      <td>3</td>\n",
       "      <td>1</td>\n",
       "      <td>0.2310</td>\n",
       "      <td>0.2038</td>\n",
       "      <td>0.9253</td>\n",
       "      <td>0.9712</td>\n",
       "      <td>0.5196</td>\n",
       "      <td>0.7009</td>\n",
       "      <td>0.4100</td>\n",
       "    </tr>\n",
       "    <tr>\n",
       "      <th>5</th>\n",
       "      <td>2019-04-18 23:57:38</td>\n",
       "      <td>3</td>\n",
       "      <td>2</td>\n",
       "      <td>0.2127</td>\n",
       "      <td>0.2049</td>\n",
       "      <td>0.9256</td>\n",
       "      <td>0.9716</td>\n",
       "      <td>0.5182</td>\n",
       "      <td>0.7024</td>\n",
       "      <td>0.4047</td>\n",
       "    </tr>\n",
       "    <tr>\n",
       "      <th>6</th>\n",
       "      <td>2019-04-19 00:46:02</td>\n",
       "      <td>1</td>\n",
       "      <td>1</td>\n",
       "      <td>0.1363</td>\n",
       "      <td>0.1382</td>\n",
       "      <td>0.9475</td>\n",
       "      <td>0.9815</td>\n",
       "      <td>0.6405</td>\n",
       "      <td>0.7768</td>\n",
       "      <td>0.3154</td>\n",
       "    </tr>\n",
       "    <tr>\n",
       "      <th>7</th>\n",
       "      <td>2019-04-19 01:33:46</td>\n",
       "      <td>1</td>\n",
       "      <td>2</td>\n",
       "      <td>0.1411</td>\n",
       "      <td>0.1323</td>\n",
       "      <td>0.9499</td>\n",
       "      <td>0.9825</td>\n",
       "      <td>0.6586</td>\n",
       "      <td>0.7866</td>\n",
       "      <td>0.3189</td>\n",
       "    </tr>\n",
       "    <tr>\n",
       "      <th>8</th>\n",
       "      <td>2019-04-19 02:21:28</td>\n",
       "      <td>1</td>\n",
       "      <td>3</td>\n",
       "      <td>0.1906</td>\n",
       "      <td>0.1283</td>\n",
       "      <td>0.9503</td>\n",
       "      <td>0.9830</td>\n",
       "      <td>0.6709</td>\n",
       "      <td>0.7898</td>\n",
       "      <td>0.3295</td>\n",
       "    </tr>\n",
       "    <tr>\n",
       "      <th>9</th>\n",
       "      <td>2019-04-19 03:09:11</td>\n",
       "      <td>2</td>\n",
       "      <td>1</td>\n",
       "      <td>0.1304</td>\n",
       "      <td>0.1283</td>\n",
       "      <td>0.9511</td>\n",
       "      <td>0.9832</td>\n",
       "      <td>0.6800</td>\n",
       "      <td>0.7911</td>\n",
       "      <td>0.3349</td>\n",
       "    </tr>\n",
       "    <tr>\n",
       "      <th>10</th>\n",
       "      <td>2019-04-19 03:57:00</td>\n",
       "      <td>2</td>\n",
       "      <td>2</td>\n",
       "      <td>0.0994</td>\n",
       "      <td>0.1299</td>\n",
       "      <td>0.9508</td>\n",
       "      <td>0.9832</td>\n",
       "      <td>0.6765</td>\n",
       "      <td>0.7817</td>\n",
       "      <td>0.3192</td>\n",
       "    </tr>\n",
       "    <tr>\n",
       "      <th>11</th>\n",
       "      <td>2019-04-19 04:44:30</td>\n",
       "      <td>2</td>\n",
       "      <td>3</td>\n",
       "      <td>0.1002</td>\n",
       "      <td>0.1287</td>\n",
       "      <td>0.9505</td>\n",
       "      <td>0.9830</td>\n",
       "      <td>0.6896</td>\n",
       "      <td>0.7880</td>\n",
       "      <td>0.3281</td>\n",
       "    </tr>\n",
       "    <tr>\n",
       "      <th>12</th>\n",
       "      <td>2019-04-19 05:32:11</td>\n",
       "      <td>3</td>\n",
       "      <td>1</td>\n",
       "      <td>0.1212</td>\n",
       "      <td>0.1281</td>\n",
       "      <td>0.9514</td>\n",
       "      <td>0.9833</td>\n",
       "      <td>0.6821</td>\n",
       "      <td>0.7916</td>\n",
       "      <td>0.3285</td>\n",
       "    </tr>\n",
       "    <tr>\n",
       "      <th>13</th>\n",
       "      <td>2019-04-19 06:19:50</td>\n",
       "      <td>3</td>\n",
       "      <td>2</td>\n",
       "      <td>0.1312</td>\n",
       "      <td>0.1278</td>\n",
       "      <td>0.9525</td>\n",
       "      <td>0.9834</td>\n",
       "      <td>0.6830</td>\n",
       "      <td>0.7975</td>\n",
       "      <td>0.3457</td>\n",
       "    </tr>\n",
       "    <tr>\n",
       "      <th>14</th>\n",
       "      <td>2019-04-19 07:07:27</td>\n",
       "      <td>3</td>\n",
       "      <td>3</td>\n",
       "      <td>0.1638</td>\n",
       "      <td>0.1281</td>\n",
       "      <td>0.9526</td>\n",
       "      <td>0.9837</td>\n",
       "      <td>0.6822</td>\n",
       "      <td>0.7993</td>\n",
       "      <td>0.3366</td>\n",
       "    </tr>\n",
       "    <tr>\n",
       "      <th>15</th>\n",
       "      <td>2019-04-19 07:55:12</td>\n",
       "      <td>4</td>\n",
       "      <td>1</td>\n",
       "      <td>0.0696</td>\n",
       "      <td>0.1313</td>\n",
       "      <td>0.9511</td>\n",
       "      <td>0.9833</td>\n",
       "      <td>0.6903</td>\n",
       "      <td>0.7890</td>\n",
       "      <td>0.3418</td>\n",
       "    </tr>\n",
       "  </tbody>\n",
       "</table>\n",
       "</div>"
      ],
      "text/plain": [
       "                   time  epoch  iteration  training loss    loss  accuracy  \\\n",
       "0   2019-04-18 21:44:48      1          1         0.2064  0.2202    0.9190   \n",
       "1   2019-04-18 22:11:29      1          2         0.2059  0.2081    0.9230   \n",
       "2   2019-04-18 22:38:09      2          1         0.2241  0.2063    0.9241   \n",
       "3   2019-04-18 23:04:47      2          2         0.2088  0.2035    0.9261   \n",
       "4   2019-04-18 23:31:14      3          1         0.2310  0.2038    0.9253   \n",
       "5   2019-04-18 23:57:38      3          2         0.2127  0.2049    0.9256   \n",
       "6   2019-04-19 00:46:02      1          1         0.1363  0.1382    0.9475   \n",
       "7   2019-04-19 01:33:46      1          2         0.1411  0.1323    0.9499   \n",
       "8   2019-04-19 02:21:28      1          3         0.1906  0.1283    0.9503   \n",
       "9   2019-04-19 03:09:11      2          1         0.1304  0.1283    0.9511   \n",
       "10  2019-04-19 03:57:00      2          2         0.0994  0.1299    0.9508   \n",
       "11  2019-04-19 04:44:30      2          3         0.1002  0.1287    0.9505   \n",
       "12  2019-04-19 05:32:11      3          1         0.1212  0.1281    0.9514   \n",
       "13  2019-04-19 06:19:50      3          2         0.1312  0.1278    0.9525   \n",
       "14  2019-04-19 07:07:27      3          3         0.1638  0.1281    0.9526   \n",
       "15  2019-04-19 07:55:12      4          1         0.0696  0.1313    0.9511   \n",
       "\n",
       "    f1_space  f1_comma  f1_period  f1_question  \n",
       "0     0.9673    0.4420     0.6838       0.2902  \n",
       "1     0.9697    0.5008     0.6921       0.3547  \n",
       "2     0.9702    0.5048     0.6938       0.3921  \n",
       "3     0.9716    0.5237     0.7039       0.3801  \n",
       "4     0.9712    0.5196     0.7009       0.4100  \n",
       "5     0.9716    0.5182     0.7024       0.4047  \n",
       "6     0.9815    0.6405     0.7768       0.3154  \n",
       "7     0.9825    0.6586     0.7866       0.3189  \n",
       "8     0.9830    0.6709     0.7898       0.3295  \n",
       "9     0.9832    0.6800     0.7911       0.3349  \n",
       "10    0.9832    0.6765     0.7817       0.3192  \n",
       "11    0.9830    0.6896     0.7880       0.3281  \n",
       "12    0.9833    0.6821     0.7916       0.3285  \n",
       "13    0.9834    0.6830     0.7975       0.3457  \n",
       "14    0.9837    0.6822     0.7993       0.3366  \n",
       "15    0.9833    0.6903     0.7890       0.3418  "
      ]
     },
     "execution_count": 9,
     "metadata": {},
     "output_type": "execute_result"
    }
   ],
   "source": [
    "progress = pd.read_csv(path+'progress.csv', delimiter=';')\n",
    "progress"
   ]
  },
  {
   "cell_type": "code",
   "execution_count": 10,
   "metadata": {},
   "outputs": [
    {
     "data": {
      "image/png": "[encoded data removed]",
      "text/plain": [
       "<Figure size 432x288 with 1 Axes>"
      ]
     },
     "metadata": {
      "needs_background": "light"
     },
     "output_type": "display_data"
    }
   ],
   "source": [
    "progress[['training loss', 'loss']].plot();"
   ]
  },
  {
   "cell_type": "code",
   "execution_count": 11,
   "metadata": {},
   "outputs": [
    {
     "data": {
      "image/png": "[encoded data removed]",
      "text/plain": [
       "<Figure size 432x288 with 1 Axes>"
      ]
     },
     "metadata": {
      "needs_background": "light"
     },
     "output_type": "display_data"
    }
   ],
   "source": [
    "progress[['accuracy', 'f1_space', 'f1_comma', 'f1_period', 'f1_question']].plot();\n",
    "# progress[['accuracy', 'f1_O', 'f1_PERIOD']].plot();"
   ]
  },
  {
   "cell_type": "markdown",
   "metadata": {},
   "source": [
    "### Model evaluation"
   ]
  },
  {
   "cell_type": "code",
   "execution_count": 12,
   "metadata": {},
   "outputs": [],
   "source": [
    "bert_punc.load_state_dict(torch.load(path+'model'))\n",
    "bert_punc.eval();"
   ]
  },
  {
   "cell_type": "code",
   "execution_count": 13,
   "metadata": {},
   "outputs": [],
   "source": [
    "batch_size = 1024\n",
    "data_loader_test = create_data_loader(X_test, y_test, False, batch_size)\n",
    "data_loader_test_asr = create_data_loader(X_test_asr, y_test_asr, False, batch_size)"
   ]
  },
  {
   "cell_type": "code",
   "execution_count": 14,
   "metadata": {},
   "outputs": [],
   "source": [
    "def predictions(data_loader):\n",
    "    y_pred = []\n",
    "    y_true = []\n",
    "    for inputs, labels in tqdm(data_loader, total=len(data_loader)):\n",
    "        with torch.no_grad():\n",
    "            inputs, labels = inputs.cuda(), labels.cuda()\n",
    "            output = bert_punc(inputs)\n",
    "            y_pred += list(output.argmax(dim=1).cpu().data.numpy().flatten())\n",
    "            y_true += list(labels.cpu().data.numpy().flatten())\n",
    "    return y_pred, y_true"
   ]
  },
  {
   "cell_type": "code",
   "execution_count": 15,
   "metadata": {},
   "outputs": [],
   "source": [
    "def evaluation(y_pred, y_test):\n",
    "    precision, recall, f1, _ = metrics.precision_recall_fscore_support(\n",
    "        y_test, y_pred, average=None, labels=[1, 2, 3])\n",
    "    overall = metrics.precision_recall_fscore_support(\n",
    "        y_test, y_pred, average='macro', labels=[1, 2, 3])\n",
    "    result = pd.DataFrame(\n",
    "        np.array([precision, recall, f1]), \n",
    "        columns=list(punctuation_enc.keys())[1:], \n",
    "        index=['Precision', 'Recall', 'F1']\n",
    "    )\n",
    "    result['OVERALL'] = overall[:3]\n",
    "    return result"
   ]
  },
  {
   "cell_type": "code",
   "execution_count": 16,
   "metadata": {},
   "outputs": [],
   "source": [
    "# def evaluation(y_pred, y_test):\n",
    "#     precision, recall, f1, _ = metrics.precision_recall_fscore_support(\n",
    "#         y_test, y_pred, average=None, labels=[1])\n",
    "#     overall = metrics.precision_recall_fscore_support(\n",
    "#         y_test, y_pred, average='macro', labels=[1])\n",
    "#     result = pd.DataFrame(\n",
    "#         np.array([precision, recall, f1]), \n",
    "#         columns=list(punctuation_enc.keys())[1:], \n",
    "#         index=['Precision', 'Recall', 'F1']\n",
    "#     )\n",
    "#     result['OVERALL'] = overall[:3]\n",
    "#     return result"
   ]
  },
  {
   "cell_type": "markdown",
   "metadata": {},
   "source": [
    "#### Test"
   ]
  },
  {
   "cell_type": "code",
   "execution_count": 17,
   "metadata": {},
   "outputs": [
    {
     "name": "stderr",
     "output_type": "stream",
     "text": [
      "100%|██████████| 14/14 [00:12<00:00,  1.57it/s]\n"
     ]
    },
    {
     "data": {
      "text/html": [
       "<div>\n",
       "<style scoped>\n",
       "    .dataframe tbody tr th:only-of-type {\n",
       "        vertical-align: middle;\n",
       "    }\n",
       "\n",
       "    .dataframe tbody tr th {\n",
       "        vertical-align: top;\n",
       "    }\n",
       "\n",
       "    .dataframe thead th {\n",
       "        text-align: right;\n",
       "    }\n",
       "</style>\n",
       "<table border=\"1\" class=\"dataframe\">\n",
       "  <thead>\n",
       "    <tr style=\"text-align: right;\">\n",
       "      <th></th>\n",
       "      <th>COMMA</th>\n",
       "      <th>PERIOD</th>\n",
       "      <th>QUESTION</th>\n",
       "      <th>OVERALL</th>\n",
       "    </tr>\n",
       "  </thead>\n",
       "  <tbody>\n",
       "    <tr>\n",
       "      <th>Precision</th>\n",
       "      <td>0.670927</td>\n",
       "      <td>0.819083</td>\n",
       "      <td>0.708333</td>\n",
       "      <td>0.732781</td>\n",
       "    </tr>\n",
       "    <tr>\n",
       "      <th>Recall</th>\n",
       "      <td>0.759036</td>\n",
       "      <td>0.819083</td>\n",
       "      <td>0.739130</td>\n",
       "      <td>0.772417</td>\n",
       "    </tr>\n",
       "    <tr>\n",
       "      <th>F1</th>\n",
       "      <td>0.712267</td>\n",
       "      <td>0.819083</td>\n",
       "      <td>0.723404</td>\n",
       "      <td>0.751585</td>\n",
       "    </tr>\n",
       "  </tbody>\n",
       "</table>\n",
       "</div>"
      ],
      "text/plain": [
       "              COMMA    PERIOD  QUESTION   OVERALL\n",
       "Precision  0.670927  0.819083  0.708333  0.732781\n",
       "Recall     0.759036  0.819083  0.739130  0.772417\n",
       "F1         0.712267  0.819083  0.723404  0.751585"
      ]
     },
     "execution_count": 17,
     "metadata": {},
     "output_type": "execute_result"
    }
   ],
   "source": [
    "y_pred_test, y_true_test = predictions(data_loader_test)\n",
    "eval_test = evaluation(y_pred_test, y_true_test)\n",
    "eval_test"
   ]
  },
  {
   "cell_type": "code",
   "execution_count": 18,
   "metadata": {},
   "outputs": [
    {
     "data": {
      "text/html": [
       "<div>\n",
       "<style scoped>\n",
       "    .dataframe tbody tr th:only-of-type {\n",
       "        vertical-align: middle;\n",
       "    }\n",
       "\n",
       "    .dataframe tbody tr th {\n",
       "        vertical-align: top;\n",
       "    }\n",
       "\n",
       "    .dataframe thead th {\n",
       "        text-align: right;\n",
       "    }\n",
       "</style>\n",
       "<table border=\"1\" class=\"dataframe\">\n",
       "  <thead>\n",
       "    <tr style=\"text-align: right;\">\n",
       "      <th></th>\n",
       "      <th>COMMA</th>\n",
       "      <th>PERIOD</th>\n",
       "      <th>QUESTION</th>\n",
       "      <th>OVERALL</th>\n",
       "    </tr>\n",
       "  </thead>\n",
       "  <tbody>\n",
       "    <tr>\n",
       "      <th>Precision</th>\n",
       "      <td>0.655</td>\n",
       "      <td>0.733</td>\n",
       "      <td>0.707</td>\n",
       "      <td>0.700</td>\n",
       "    </tr>\n",
       "    <tr>\n",
       "      <th>Recall</th>\n",
       "      <td>0.471</td>\n",
       "      <td>0.725</td>\n",
       "      <td>0.630</td>\n",
       "      <td>0.597</td>\n",
       "    </tr>\n",
       "    <tr>\n",
       "      <th>F1</th>\n",
       "      <td>0.548</td>\n",
       "      <td>0.729</td>\n",
       "      <td>0.667</td>\n",
       "      <td>0.644</td>\n",
       "    </tr>\n",
       "  </tbody>\n",
       "</table>\n",
       "</div>"
      ],
      "text/plain": [
       "           COMMA  PERIOD  QUESTION  OVERALL\n",
       "Precision  0.655   0.733     0.707    0.700\n",
       "Recall     0.471   0.725     0.630    0.597\n",
       "F1         0.548   0.729     0.667    0.644"
      ]
     },
     "execution_count": 18,
     "metadata": {},
     "output_type": "execute_result"
    }
   ],
   "source": [
    "# https://www.isca-speech.org/archive/Interspeech_2016/pdfs/1517.PDF\n",
    "ref_test = pd.DataFrame({\n",
    "    'COMMA':    [0.655, 0.471, 0.548],\n",
    "    'PERIOD':   [0.733, 0.725, 0.729],\n",
    "    'QUESTION': [0.707, 0.630, 0.667],\n",
    "    'OVERALL':  [0.700, 0.597, 0.644]\n",
    "}, index=['Precision', 'Recall', 'F1'])\n",
    "ref_test"
   ]
  },
  {
   "cell_type": "code",
   "execution_count": 19,
   "metadata": {},
   "outputs": [
    {
     "data": {
      "image/png": "[encoded data removed]",
      "text/plain": [
       "<Figure size 864x288 with 1 Axes>"
      ]
     },
     "metadata": {
      "needs_background": "light"
     },
     "output_type": "display_data"
    },
    {
     "data": {
      "image/png": "[encoded data removed]",
      "text/plain": [
       "<Figure size 864x288 with 1 Axes>"
      ]
     },
     "metadata": {
      "needs_background": "light"
     },
     "output_type": "display_data"
    },
    {
     "data": {
      "image/png": "[encoded data removed]",
      "text/plain": [
       "<Figure size 864x288 with 1 Axes>"
      ]
     },
     "metadata": {
      "needs_background": "light"
     },
     "output_type": "display_data"
    },
    {
     "data": {
      "image/png": "[encoded data removed]",
      "text/plain": [
       "<Figure size 864x288 with 1 Axes>"
      ]
     },
     "metadata": {
      "needs_background": "light"
     },
     "output_type": "display_data"
    }
   ],
   "source": [
    "for col in ref_test.columns:\n",
    "    pd.DataFrame({'Reference': ref_test[col], 'BertPunc': eval_test[col]}).plot.bar(\n",
    "        title=col, figsize=(12, 4))"
   ]
  },
  {
   "cell_type": "markdown",
   "metadata": {},
   "source": [
    "#### Test ASR"
   ]
  },
  {
   "cell_type": "code",
   "execution_count": 20,
   "metadata": {},
   "outputs": [
    {
     "name": "stderr",
     "output_type": "stream",
     "text": [
      "100%|██████████| 14/14 [00:09<00:00,  1.64it/s]\n"
     ]
    },
    {
     "data": {
      "text/html": [
       "<div>\n",
       "<style scoped>\n",
       "    .dataframe tbody tr th:only-of-type {\n",
       "        vertical-align: middle;\n",
       "    }\n",
       "\n",
       "    .dataframe tbody tr th {\n",
       "        vertical-align: top;\n",
       "    }\n",
       "\n",
       "    .dataframe thead th {\n",
       "        text-align: right;\n",
       "    }\n",
       "</style>\n",
       "<table border=\"1\" class=\"dataframe\">\n",
       "  <thead>\n",
       "    <tr style=\"text-align: right;\">\n",
       "      <th></th>\n",
       "      <th>COMMA</th>\n",
       "      <th>PERIOD</th>\n",
       "      <th>QUESTION</th>\n",
       "      <th>OVERALL</th>\n",
       "    </tr>\n",
       "  </thead>\n",
       "  <tbody>\n",
       "    <tr>\n",
       "      <th>Precision</th>\n",
       "      <td>0.485539</td>\n",
       "      <td>0.771995</td>\n",
       "      <td>0.469388</td>\n",
       "      <td>0.575641</td>\n",
       "    </tr>\n",
       "    <tr>\n",
       "      <th>Recall</th>\n",
       "      <td>0.694236</td>\n",
       "      <td>0.770087</td>\n",
       "      <td>0.657143</td>\n",
       "      <td>0.707155</td>\n",
       "    </tr>\n",
       "    <tr>\n",
       "      <th>F1</th>\n",
       "      <td>0.571429</td>\n",
       "      <td>0.771040</td>\n",
       "      <td>0.547619</td>\n",
       "      <td>0.630029</td>\n",
       "    </tr>\n",
       "  </tbody>\n",
       "</table>\n",
       "</div>"
      ],
      "text/plain": [
       "              COMMA    PERIOD  QUESTION   OVERALL\n",
       "Precision  0.485539  0.771995  0.469388  0.575641\n",
       "Recall     0.694236  0.770087  0.657143  0.707155\n",
       "F1         0.571429  0.771040  0.547619  0.630029"
      ]
     },
     "execution_count": 20,
     "metadata": {},
     "output_type": "execute_result"
    }
   ],
   "source": [
    "y_pred_test_asr, y_true_test_asr = predictions(data_loader_test_asr)\n",
    "eval_test_asr = evaluation(y_pred_test_asr, y_true_test_asr)\n",
    "eval_test_asr"
   ]
  },
  {
   "cell_type": "code",
   "execution_count": 21,
   "metadata": {},
   "outputs": [
    {
     "data": {
      "text/html": [
       "<div>\n",
       "<style scoped>\n",
       "    .dataframe tbody tr th:only-of-type {\n",
       "        vertical-align: middle;\n",
       "    }\n",
       "\n",
       "    .dataframe tbody tr th {\n",
       "        vertical-align: top;\n",
       "    }\n",
       "\n",
       "    .dataframe thead th {\n",
       "        text-align: right;\n",
       "    }\n",
       "</style>\n",
       "<table border=\"1\" class=\"dataframe\">\n",
       "  <thead>\n",
       "    <tr style=\"text-align: right;\">\n",
       "      <th></th>\n",
       "      <th>COMMA</th>\n",
       "      <th>PERIOD</th>\n",
       "      <th>QUESTION</th>\n",
       "      <th>OVERALL</th>\n",
       "    </tr>\n",
       "  </thead>\n",
       "  <tbody>\n",
       "    <tr>\n",
       "      <th>Precision</th>\n",
       "      <td>0.596</td>\n",
       "      <td>0.707</td>\n",
       "      <td>0.607</td>\n",
       "      <td>0.660</td>\n",
       "    </tr>\n",
       "    <tr>\n",
       "      <th>Recall</th>\n",
       "      <td>0.429</td>\n",
       "      <td>0.720</td>\n",
       "      <td>0.486</td>\n",
       "      <td>0.573</td>\n",
       "    </tr>\n",
       "    <tr>\n",
       "      <th>F1</th>\n",
       "      <td>0.499</td>\n",
       "      <td>0.714</td>\n",
       "      <td>0.540</td>\n",
       "      <td>0.614</td>\n",
       "    </tr>\n",
       "  </tbody>\n",
       "</table>\n",
       "</div>"
      ],
      "text/plain": [
       "           COMMA  PERIOD  QUESTION  OVERALL\n",
       "Precision  0.596   0.707     0.607    0.660\n",
       "Recall     0.429   0.720     0.486    0.573\n",
       "F1         0.499   0.714     0.540    0.614"
      ]
     },
     "execution_count": 21,
     "metadata": {},
     "output_type": "execute_result"
    }
   ],
   "source": [
    "# https://www.isca-speech.org/archive/Interspeech_2016/pdfs/1517.PDF\n",
    "ref_test_asr = pd.DataFrame({\n",
    "    'COMMA':    [0.596, 0.429, 0.499],\n",
    "    'PERIOD':   [0.707, 0.720, 0.714],\n",
    "    'QUESTION': [0.607, 0.486, 0.540],\n",
    "    'OVERALL':  [0.660, 0.573, 0.614]\n",
    "}, index=['Precision', 'Recall', 'F1'])\n",
    "ref_test_asr"
   ]
  },
  {
   "cell_type": "code",
   "execution_count": 22,
   "metadata": {},
   "outputs": [
    {
     "data": {
      "image/png": "[encoded data removed]",
      "text/plain": [
       "<Figure size 864x288 with 1 Axes>"
      ]
     },
     "metadata": {
      "needs_background": "light"
     },
     "output_type": "display_data"
    },
    {
     "data": {
      "image/png": "[encoded data removed]",
      "text/plain": [
       "<Figure size 864x288 with 1 Axes>"
      ]
     },
     "metadata": {
      "needs_background": "light"
     },
     "output_type": "display_data"
    },
    {
     "data": {
      "image/png": "[encoded data removed]",
      "text/plain": [
       "<Figure size 864x288 with 1 Axes>"
      ]
     },
     "metadata": {
      "needs_background": "light"
     },
     "output_type": "display_data"
    },
    {
     "data": {
      "image/png": "[encoded data removed]",
      "text/plain": [
       "<Figure size 864x288 with 1 Axes>"
      ]
     },
     "metadata": {
      "needs_background": "light"
     },
     "output_type": "display_data"
    }
   ],
   "source": [
    "for col in ref_test_asr.columns:\n",
    "    pd.DataFrame({'Reference': ref_test_asr[col], 'BertPunc': eval_test_asr[col]}).plot.bar(\n",
    "        title=col, figsize=(12, 4))"
   ]
  },
  {
   "cell_type": "code",
   "execution_count": null,
   "metadata": {},
   "outputs": [],
   "source": []
  }
 ],
 "metadata": {
  "kernelspec": {
   "display_name": "Python 3",
   "language": "python",
   "name": "python3"
  },
  "language_info": {
   "codemirror_mode": {
    "name": "ipython",
    "version": 3
   },
   "file_extension": ".py",
   "mimetype": "text/x-python",
   "name": "python",
   "nbconvert_exporter": "python",
   "pygments_lexer": "ipython3",
   "version": "3.6.7"
  }
 },
 "nbformat": 4,
 "nbformat_minor": 2
}
